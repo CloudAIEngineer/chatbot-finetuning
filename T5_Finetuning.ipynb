{
  "nbformat": 4,
  "nbformat_minor": 0,
  "metadata": {
    "colab": {
      "provenance": [],
      "gpuType": "T4"
    },
    "kernelspec": {
      "name": "python3",
      "display_name": "Python 3"
    },
    "language_info": {
      "name": "python"
    },
    "accelerator": "GPU",
    "widgets": {
      "application/vnd.jupyter.widget-state+json": {
        "2dbe00d393a44437a3867ad208835636": {
          "model_module": "@jupyter-widgets/controls",
          "model_name": "HBoxModel",
          "model_module_version": "1.5.0",
          "state": {
            "_dom_classes": [],
            "_model_module": "@jupyter-widgets/controls",
            "_model_module_version": "1.5.0",
            "_model_name": "HBoxModel",
            "_view_count": null,
            "_view_module": "@jupyter-widgets/controls",
            "_view_module_version": "1.5.0",
            "_view_name": "HBoxView",
            "box_style": "",
            "children": [
              "IPY_MODEL_3fdcdbb0ef5a49c3acbdcd69c14b1297",
              "IPY_MODEL_0e52aa869d42407bafc3ff08c7b180c8",
              "IPY_MODEL_d8370d5f52d8499faaec989c817a677c"
            ],
            "layout": "IPY_MODEL_10712fd0aac847d7868f1ece92d38c9e"
          }
        },
        "3fdcdbb0ef5a49c3acbdcd69c14b1297": {
          "model_module": "@jupyter-widgets/controls",
          "model_name": "HTMLModel",
          "model_module_version": "1.5.0",
          "state": {
            "_dom_classes": [],
            "_model_module": "@jupyter-widgets/controls",
            "_model_module_version": "1.5.0",
            "_model_name": "HTMLModel",
            "_view_count": null,
            "_view_module": "@jupyter-widgets/controls",
            "_view_module_version": "1.5.0",
            "_view_name": "HTMLView",
            "description": "",
            "description_tooltip": null,
            "layout": "IPY_MODEL_9b73902b9e4540088bd1325afeb57a00",
            "placeholder": "​",
            "style": "IPY_MODEL_a6931b05b7c745fd9b26f3ca41c9d811",
            "value": "Generating train split: "
          }
        },
        "0e52aa869d42407bafc3ff08c7b180c8": {
          "model_module": "@jupyter-widgets/controls",
          "model_name": "FloatProgressModel",
          "model_module_version": "1.5.0",
          "state": {
            "_dom_classes": [],
            "_model_module": "@jupyter-widgets/controls",
            "_model_module_version": "1.5.0",
            "_model_name": "FloatProgressModel",
            "_view_count": null,
            "_view_module": "@jupyter-widgets/controls",
            "_view_module_version": "1.5.0",
            "_view_name": "ProgressView",
            "bar_style": "success",
            "description": "",
            "description_tooltip": null,
            "layout": "IPY_MODEL_7cacbd27872c42abb330b455f2ee92e2",
            "max": 1,
            "min": 0,
            "orientation": "horizontal",
            "style": "IPY_MODEL_417c7fbcf6464d7eaf998a00e0300064",
            "value": 1
          }
        },
        "d8370d5f52d8499faaec989c817a677c": {
          "model_module": "@jupyter-widgets/controls",
          "model_name": "HTMLModel",
          "model_module_version": "1.5.0",
          "state": {
            "_dom_classes": [],
            "_model_module": "@jupyter-widgets/controls",
            "_model_module_version": "1.5.0",
            "_model_name": "HTMLModel",
            "_view_count": null,
            "_view_module": "@jupyter-widgets/controls",
            "_view_module_version": "1.5.0",
            "_view_name": "HTMLView",
            "description": "",
            "description_tooltip": null,
            "layout": "IPY_MODEL_b22b39a11ee940e7b6c0c1e0399300e5",
            "placeholder": "​",
            "style": "IPY_MODEL_2206dce1f7b64d869eb990ca53904322",
            "value": " 1024/0 [00:00&lt;00:00, 20226.46 examples/s]"
          }
        },
        "10712fd0aac847d7868f1ece92d38c9e": {
          "model_module": "@jupyter-widgets/base",
          "model_name": "LayoutModel",
          "model_module_version": "1.2.0",
          "state": {
            "_model_module": "@jupyter-widgets/base",
            "_model_module_version": "1.2.0",
            "_model_name": "LayoutModel",
            "_view_count": null,
            "_view_module": "@jupyter-widgets/base",
            "_view_module_version": "1.2.0",
            "_view_name": "LayoutView",
            "align_content": null,
            "align_items": null,
            "align_self": null,
            "border": null,
            "bottom": null,
            "display": null,
            "flex": null,
            "flex_flow": null,
            "grid_area": null,
            "grid_auto_columns": null,
            "grid_auto_flow": null,
            "grid_auto_rows": null,
            "grid_column": null,
            "grid_gap": null,
            "grid_row": null,
            "grid_template_areas": null,
            "grid_template_columns": null,
            "grid_template_rows": null,
            "height": null,
            "justify_content": null,
            "justify_items": null,
            "left": null,
            "margin": null,
            "max_height": null,
            "max_width": null,
            "min_height": null,
            "min_width": null,
            "object_fit": null,
            "object_position": null,
            "order": null,
            "overflow": null,
            "overflow_x": null,
            "overflow_y": null,
            "padding": null,
            "right": null,
            "top": null,
            "visibility": null,
            "width": null
          }
        },
        "9b73902b9e4540088bd1325afeb57a00": {
          "model_module": "@jupyter-widgets/base",
          "model_name": "LayoutModel",
          "model_module_version": "1.2.0",
          "state": {
            "_model_module": "@jupyter-widgets/base",
            "_model_module_version": "1.2.0",
            "_model_name": "LayoutModel",
            "_view_count": null,
            "_view_module": "@jupyter-widgets/base",
            "_view_module_version": "1.2.0",
            "_view_name": "LayoutView",
            "align_content": null,
            "align_items": null,
            "align_self": null,
            "border": null,
            "bottom": null,
            "display": null,
            "flex": null,
            "flex_flow": null,
            "grid_area": null,
            "grid_auto_columns": null,
            "grid_auto_flow": null,
            "grid_auto_rows": null,
            "grid_column": null,
            "grid_gap": null,
            "grid_row": null,
            "grid_template_areas": null,
            "grid_template_columns": null,
            "grid_template_rows": null,
            "height": null,
            "justify_content": null,
            "justify_items": null,
            "left": null,
            "margin": null,
            "max_height": null,
            "max_width": null,
            "min_height": null,
            "min_width": null,
            "object_fit": null,
            "object_position": null,
            "order": null,
            "overflow": null,
            "overflow_x": null,
            "overflow_y": null,
            "padding": null,
            "right": null,
            "top": null,
            "visibility": null,
            "width": null
          }
        },
        "a6931b05b7c745fd9b26f3ca41c9d811": {
          "model_module": "@jupyter-widgets/controls",
          "model_name": "DescriptionStyleModel",
          "model_module_version": "1.5.0",
          "state": {
            "_model_module": "@jupyter-widgets/controls",
            "_model_module_version": "1.5.0",
            "_model_name": "DescriptionStyleModel",
            "_view_count": null,
            "_view_module": "@jupyter-widgets/base",
            "_view_module_version": "1.2.0",
            "_view_name": "StyleView",
            "description_width": ""
          }
        },
        "7cacbd27872c42abb330b455f2ee92e2": {
          "model_module": "@jupyter-widgets/base",
          "model_name": "LayoutModel",
          "model_module_version": "1.2.0",
          "state": {
            "_model_module": "@jupyter-widgets/base",
            "_model_module_version": "1.2.0",
            "_model_name": "LayoutModel",
            "_view_count": null,
            "_view_module": "@jupyter-widgets/base",
            "_view_module_version": "1.2.0",
            "_view_name": "LayoutView",
            "align_content": null,
            "align_items": null,
            "align_self": null,
            "border": null,
            "bottom": null,
            "display": null,
            "flex": null,
            "flex_flow": null,
            "grid_area": null,
            "grid_auto_columns": null,
            "grid_auto_flow": null,
            "grid_auto_rows": null,
            "grid_column": null,
            "grid_gap": null,
            "grid_row": null,
            "grid_template_areas": null,
            "grid_template_columns": null,
            "grid_template_rows": null,
            "height": null,
            "justify_content": null,
            "justify_items": null,
            "left": null,
            "margin": null,
            "max_height": null,
            "max_width": null,
            "min_height": null,
            "min_width": null,
            "object_fit": null,
            "object_position": null,
            "order": null,
            "overflow": null,
            "overflow_x": null,
            "overflow_y": null,
            "padding": null,
            "right": null,
            "top": null,
            "visibility": null,
            "width": "20px"
          }
        },
        "417c7fbcf6464d7eaf998a00e0300064": {
          "model_module": "@jupyter-widgets/controls",
          "model_name": "ProgressStyleModel",
          "model_module_version": "1.5.0",
          "state": {
            "_model_module": "@jupyter-widgets/controls",
            "_model_module_version": "1.5.0",
            "_model_name": "ProgressStyleModel",
            "_view_count": null,
            "_view_module": "@jupyter-widgets/base",
            "_view_module_version": "1.2.0",
            "_view_name": "StyleView",
            "bar_color": null,
            "description_width": ""
          }
        },
        "b22b39a11ee940e7b6c0c1e0399300e5": {
          "model_module": "@jupyter-widgets/base",
          "model_name": "LayoutModel",
          "model_module_version": "1.2.0",
          "state": {
            "_model_module": "@jupyter-widgets/base",
            "_model_module_version": "1.2.0",
            "_model_name": "LayoutModel",
            "_view_count": null,
            "_view_module": "@jupyter-widgets/base",
            "_view_module_version": "1.2.0",
            "_view_name": "LayoutView",
            "align_content": null,
            "align_items": null,
            "align_self": null,
            "border": null,
            "bottom": null,
            "display": null,
            "flex": null,
            "flex_flow": null,
            "grid_area": null,
            "grid_auto_columns": null,
            "grid_auto_flow": null,
            "grid_auto_rows": null,
            "grid_column": null,
            "grid_gap": null,
            "grid_row": null,
            "grid_template_areas": null,
            "grid_template_columns": null,
            "grid_template_rows": null,
            "height": null,
            "justify_content": null,
            "justify_items": null,
            "left": null,
            "margin": null,
            "max_height": null,
            "max_width": null,
            "min_height": null,
            "min_width": null,
            "object_fit": null,
            "object_position": null,
            "order": null,
            "overflow": null,
            "overflow_x": null,
            "overflow_y": null,
            "padding": null,
            "right": null,
            "top": null,
            "visibility": null,
            "width": null
          }
        },
        "2206dce1f7b64d869eb990ca53904322": {
          "model_module": "@jupyter-widgets/controls",
          "model_name": "DescriptionStyleModel",
          "model_module_version": "1.5.0",
          "state": {
            "_model_module": "@jupyter-widgets/controls",
            "_model_module_version": "1.5.0",
            "_model_name": "DescriptionStyleModel",
            "_view_count": null,
            "_view_module": "@jupyter-widgets/base",
            "_view_module_version": "1.2.0",
            "_view_name": "StyleView",
            "description_width": ""
          }
        },
        "ad96e869563447dc8ce3b31f93ac0996": {
          "model_module": "@jupyter-widgets/controls",
          "model_name": "HBoxModel",
          "model_module_version": "1.5.0",
          "state": {
            "_dom_classes": [],
            "_model_module": "@jupyter-widgets/controls",
            "_model_module_version": "1.5.0",
            "_model_name": "HBoxModel",
            "_view_count": null,
            "_view_module": "@jupyter-widgets/controls",
            "_view_module_version": "1.5.0",
            "_view_name": "HBoxView",
            "box_style": "",
            "children": [
              "IPY_MODEL_e0adf75797674be68718bec4ac02961c",
              "IPY_MODEL_0925ee2349574adf9777b1bcf3d9a867",
              "IPY_MODEL_6e4a78fee03d492f8ba57559e91c9036"
            ],
            "layout": "IPY_MODEL_c622a523c62d4037ab665a8dcedd97ba"
          }
        },
        "e0adf75797674be68718bec4ac02961c": {
          "model_module": "@jupyter-widgets/controls",
          "model_name": "HTMLModel",
          "model_module_version": "1.5.0",
          "state": {
            "_dom_classes": [],
            "_model_module": "@jupyter-widgets/controls",
            "_model_module_version": "1.5.0",
            "_model_name": "HTMLModel",
            "_view_count": null,
            "_view_module": "@jupyter-widgets/controls",
            "_view_module_version": "1.5.0",
            "_view_name": "HTMLView",
            "description": "",
            "description_tooltip": null,
            "layout": "IPY_MODEL_9c29c0f23576470385442bf4317d28d6",
            "placeholder": "​",
            "style": "IPY_MODEL_b9434d01824343b7a1163fff120d091b",
            "value": "Map: 100%"
          }
        },
        "0925ee2349574adf9777b1bcf3d9a867": {
          "model_module": "@jupyter-widgets/controls",
          "model_name": "FloatProgressModel",
          "model_module_version": "1.5.0",
          "state": {
            "_dom_classes": [],
            "_model_module": "@jupyter-widgets/controls",
            "_model_module_version": "1.5.0",
            "_model_name": "FloatProgressModel",
            "_view_count": null,
            "_view_module": "@jupyter-widgets/controls",
            "_view_module_version": "1.5.0",
            "_view_name": "ProgressView",
            "bar_style": "success",
            "description": "",
            "description_tooltip": null,
            "layout": "IPY_MODEL_b62b8d61d9974e82ab5d2a3e50647f94",
            "max": 1024,
            "min": 0,
            "orientation": "horizontal",
            "style": "IPY_MODEL_e3d4d1b01bbf4e1bb86e935f300efa5a",
            "value": 1024
          }
        },
        "6e4a78fee03d492f8ba57559e91c9036": {
          "model_module": "@jupyter-widgets/controls",
          "model_name": "HTMLModel",
          "model_module_version": "1.5.0",
          "state": {
            "_dom_classes": [],
            "_model_module": "@jupyter-widgets/controls",
            "_model_module_version": "1.5.0",
            "_model_name": "HTMLModel",
            "_view_count": null,
            "_view_module": "@jupyter-widgets/controls",
            "_view_module_version": "1.5.0",
            "_view_name": "HTMLView",
            "description": "",
            "description_tooltip": null,
            "layout": "IPY_MODEL_3667e373396c4e1791b6a79627bd4df2",
            "placeholder": "​",
            "style": "IPY_MODEL_fa724e8b6158498eb2481178e676461e",
            "value": " 1024/1024 [00:00&lt;00:00, 1933.78 examples/s]"
          }
        },
        "c622a523c62d4037ab665a8dcedd97ba": {
          "model_module": "@jupyter-widgets/base",
          "model_name": "LayoutModel",
          "model_module_version": "1.2.0",
          "state": {
            "_model_module": "@jupyter-widgets/base",
            "_model_module_version": "1.2.0",
            "_model_name": "LayoutModel",
            "_view_count": null,
            "_view_module": "@jupyter-widgets/base",
            "_view_module_version": "1.2.0",
            "_view_name": "LayoutView",
            "align_content": null,
            "align_items": null,
            "align_self": null,
            "border": null,
            "bottom": null,
            "display": null,
            "flex": null,
            "flex_flow": null,
            "grid_area": null,
            "grid_auto_columns": null,
            "grid_auto_flow": null,
            "grid_auto_rows": null,
            "grid_column": null,
            "grid_gap": null,
            "grid_row": null,
            "grid_template_areas": null,
            "grid_template_columns": null,
            "grid_template_rows": null,
            "height": null,
            "justify_content": null,
            "justify_items": null,
            "left": null,
            "margin": null,
            "max_height": null,
            "max_width": null,
            "min_height": null,
            "min_width": null,
            "object_fit": null,
            "object_position": null,
            "order": null,
            "overflow": null,
            "overflow_x": null,
            "overflow_y": null,
            "padding": null,
            "right": null,
            "top": null,
            "visibility": null,
            "width": null
          }
        },
        "9c29c0f23576470385442bf4317d28d6": {
          "model_module": "@jupyter-widgets/base",
          "model_name": "LayoutModel",
          "model_module_version": "1.2.0",
          "state": {
            "_model_module": "@jupyter-widgets/base",
            "_model_module_version": "1.2.0",
            "_model_name": "LayoutModel",
            "_view_count": null,
            "_view_module": "@jupyter-widgets/base",
            "_view_module_version": "1.2.0",
            "_view_name": "LayoutView",
            "align_content": null,
            "align_items": null,
            "align_self": null,
            "border": null,
            "bottom": null,
            "display": null,
            "flex": null,
            "flex_flow": null,
            "grid_area": null,
            "grid_auto_columns": null,
            "grid_auto_flow": null,
            "grid_auto_rows": null,
            "grid_column": null,
            "grid_gap": null,
            "grid_row": null,
            "grid_template_areas": null,
            "grid_template_columns": null,
            "grid_template_rows": null,
            "height": null,
            "justify_content": null,
            "justify_items": null,
            "left": null,
            "margin": null,
            "max_height": null,
            "max_width": null,
            "min_height": null,
            "min_width": null,
            "object_fit": null,
            "object_position": null,
            "order": null,
            "overflow": null,
            "overflow_x": null,
            "overflow_y": null,
            "padding": null,
            "right": null,
            "top": null,
            "visibility": null,
            "width": null
          }
        },
        "b9434d01824343b7a1163fff120d091b": {
          "model_module": "@jupyter-widgets/controls",
          "model_name": "DescriptionStyleModel",
          "model_module_version": "1.5.0",
          "state": {
            "_model_module": "@jupyter-widgets/controls",
            "_model_module_version": "1.5.0",
            "_model_name": "DescriptionStyleModel",
            "_view_count": null,
            "_view_module": "@jupyter-widgets/base",
            "_view_module_version": "1.2.0",
            "_view_name": "StyleView",
            "description_width": ""
          }
        },
        "b62b8d61d9974e82ab5d2a3e50647f94": {
          "model_module": "@jupyter-widgets/base",
          "model_name": "LayoutModel",
          "model_module_version": "1.2.0",
          "state": {
            "_model_module": "@jupyter-widgets/base",
            "_model_module_version": "1.2.0",
            "_model_name": "LayoutModel",
            "_view_count": null,
            "_view_module": "@jupyter-widgets/base",
            "_view_module_version": "1.2.0",
            "_view_name": "LayoutView",
            "align_content": null,
            "align_items": null,
            "align_self": null,
            "border": null,
            "bottom": null,
            "display": null,
            "flex": null,
            "flex_flow": null,
            "grid_area": null,
            "grid_auto_columns": null,
            "grid_auto_flow": null,
            "grid_auto_rows": null,
            "grid_column": null,
            "grid_gap": null,
            "grid_row": null,
            "grid_template_areas": null,
            "grid_template_columns": null,
            "grid_template_rows": null,
            "height": null,
            "justify_content": null,
            "justify_items": null,
            "left": null,
            "margin": null,
            "max_height": null,
            "max_width": null,
            "min_height": null,
            "min_width": null,
            "object_fit": null,
            "object_position": null,
            "order": null,
            "overflow": null,
            "overflow_x": null,
            "overflow_y": null,
            "padding": null,
            "right": null,
            "top": null,
            "visibility": null,
            "width": null
          }
        },
        "e3d4d1b01bbf4e1bb86e935f300efa5a": {
          "model_module": "@jupyter-widgets/controls",
          "model_name": "ProgressStyleModel",
          "model_module_version": "1.5.0",
          "state": {
            "_model_module": "@jupyter-widgets/controls",
            "_model_module_version": "1.5.0",
            "_model_name": "ProgressStyleModel",
            "_view_count": null,
            "_view_module": "@jupyter-widgets/base",
            "_view_module_version": "1.2.0",
            "_view_name": "StyleView",
            "bar_color": null,
            "description_width": ""
          }
        },
        "3667e373396c4e1791b6a79627bd4df2": {
          "model_module": "@jupyter-widgets/base",
          "model_name": "LayoutModel",
          "model_module_version": "1.2.0",
          "state": {
            "_model_module": "@jupyter-widgets/base",
            "_model_module_version": "1.2.0",
            "_model_name": "LayoutModel",
            "_view_count": null,
            "_view_module": "@jupyter-widgets/base",
            "_view_module_version": "1.2.0",
            "_view_name": "LayoutView",
            "align_content": null,
            "align_items": null,
            "align_self": null,
            "border": null,
            "bottom": null,
            "display": null,
            "flex": null,
            "flex_flow": null,
            "grid_area": null,
            "grid_auto_columns": null,
            "grid_auto_flow": null,
            "grid_auto_rows": null,
            "grid_column": null,
            "grid_gap": null,
            "grid_row": null,
            "grid_template_areas": null,
            "grid_template_columns": null,
            "grid_template_rows": null,
            "height": null,
            "justify_content": null,
            "justify_items": null,
            "left": null,
            "margin": null,
            "max_height": null,
            "max_width": null,
            "min_height": null,
            "min_width": null,
            "object_fit": null,
            "object_position": null,
            "order": null,
            "overflow": null,
            "overflow_x": null,
            "overflow_y": null,
            "padding": null,
            "right": null,
            "top": null,
            "visibility": null,
            "width": null
          }
        },
        "fa724e8b6158498eb2481178e676461e": {
          "model_module": "@jupyter-widgets/controls",
          "model_name": "DescriptionStyleModel",
          "model_module_version": "1.5.0",
          "state": {
            "_model_module": "@jupyter-widgets/controls",
            "_model_module_version": "1.5.0",
            "_model_name": "DescriptionStyleModel",
            "_view_count": null,
            "_view_module": "@jupyter-widgets/base",
            "_view_module_version": "1.2.0",
            "_view_name": "StyleView",
            "description_width": ""
          }
        }
      }
    }
  },
  "cells": [
    {
      "cell_type": "code",
      "execution_count": null,
      "metadata": {
        "id": "4HN_wE9bgjoS"
      },
      "outputs": [],
      "source": [
        "!pip install transformers datasets\n",
        "!pip install tensorboard\n",
        "!pip install evaluate\n",
        "!pip install rouge_score"
      ]
    },
    {
      "cell_type": "markdown",
      "source": [
        "## Model initialization\n",
        "This code loads the `google/flan-t5-base` model and tokenizer for sequence-to-sequence tasks and imports a JSON Lines dataset for fine-tuning or inference."
      ],
      "metadata": {
        "id": "BbG-NAvS2j0d"
      }
    },
    {
      "cell_type": "code",
      "source": [
        "from datasets import load_dataset\n",
        "from transformers import AutoTokenizer, AutoModelForSeq2SeqLM\n",
        "import torch\n",
        "\n",
        "# Initialize the tokenizer and model\n",
        "model_name = \"google/flan-t5-base\"\n",
        "tokenizer = AutoTokenizer.from_pretrained(model_name)\n",
        "model = AutoModelForSeq2SeqLM.from_pretrained(model_name)"
      ],
      "metadata": {
        "id": "zJlKbBr-g4zX"
      },
      "execution_count": null,
      "outputs": []
    },
    {
      "cell_type": "code",
      "source": [
        "# Backup original model to compare answers after fine-tuning\n",
        "model_orig = AutoModelForSeq2SeqLM.from_pretrained(model_name)"
      ],
      "metadata": {
        "id": "MoJ8Bwz9-EQm"
      },
      "execution_count": 29,
      "outputs": []
    },
    {
      "cell_type": "code",
      "source": [
        "device = \"cuda\" if torch.cuda.is_available() else \"cpu\"\n",
        "model.to(device)\n",
        "#model_orig.to_device(device)"
      ],
      "metadata": {
        "id": "0B9tvmbZ2J84"
      },
      "execution_count": null,
      "outputs": []
    },
    {
      "cell_type": "code",
      "source": [
        "# Load the dataset\n",
        "dataset = load_dataset(\"json\", data_files=\"/content/drive/MyDrive/Dataset/finetune.jsonl\")"
      ],
      "metadata": {
        "id": "kp8Ma88gMJGT",
        "outputId": "6113f562-6d93-4146-af3f-8c7828c3aa26",
        "colab": {
          "base_uri": "https://localhost:8080/",
          "height": 49,
          "referenced_widgets": [
            "2dbe00d393a44437a3867ad208835636",
            "3fdcdbb0ef5a49c3acbdcd69c14b1297",
            "0e52aa869d42407bafc3ff08c7b180c8",
            "d8370d5f52d8499faaec989c817a677c",
            "10712fd0aac847d7868f1ece92d38c9e",
            "9b73902b9e4540088bd1325afeb57a00",
            "a6931b05b7c745fd9b26f3ca41c9d811",
            "7cacbd27872c42abb330b455f2ee92e2",
            "417c7fbcf6464d7eaf998a00e0300064",
            "b22b39a11ee940e7b6c0c1e0399300e5",
            "2206dce1f7b64d869eb990ca53904322"
          ]
        }
      },
      "execution_count": 6,
      "outputs": [
        {
          "output_type": "display_data",
          "data": {
            "text/plain": [
              "Generating train split: 0 examples [00:00, ? examples/s]"
            ],
            "application/vnd.jupyter.widget-view+json": {
              "version_major": 2,
              "version_minor": 0,
              "model_id": "2dbe00d393a44437a3867ad208835636"
            }
          },
          "metadata": {}
        }
      ]
    },
    {
      "cell_type": "markdown",
      "source": [
        "## Prepare dataset\n",
        "Tokenizes questions and answers, applies truncation and padding, sets a maximum length, and splits the dataset into training and evaluation sets."
      ],
      "metadata": {
        "id": "ykR1n8Li3OyY"
      }
    },
    {
      "cell_type": "code",
      "source": [
        "def preprocess_data(examples):\n",
        "    input_texts = [f\"question: {q}\" for q in examples[\"question\"]]\n",
        "    target_texts = examples[\"answer\"]\n",
        "\n",
        "    model_inputs = tokenizer(\n",
        "        input_texts,\n",
        "        text_target=target_texts,\n",
        "        truncation=True,\n",
        "        padding='max_length',\n",
        "        max_length=50,\n",
        "        return_tensors=\"pt\"\n",
        "    )\n",
        "\n",
        "    return model_inputs\n",
        "\n",
        "tokenized_dataset = dataset.map(preprocess_data, batched=True)\n",
        "train_dataset, eval_dataset = tokenized_dataset[\"train\"].train_test_split(test_size=0.2).values()"
      ],
      "metadata": {
        "colab": {
          "base_uri": "https://localhost:8080/",
          "height": 49,
          "referenced_widgets": [
            "ad96e869563447dc8ce3b31f93ac0996",
            "e0adf75797674be68718bec4ac02961c",
            "0925ee2349574adf9777b1bcf3d9a867",
            "6e4a78fee03d492f8ba57559e91c9036",
            "c622a523c62d4037ab665a8dcedd97ba",
            "9c29c0f23576470385442bf4317d28d6",
            "b9434d01824343b7a1163fff120d091b",
            "b62b8d61d9974e82ab5d2a3e50647f94",
            "e3d4d1b01bbf4e1bb86e935f300efa5a",
            "3667e373396c4e1791b6a79627bd4df2",
            "fa724e8b6158498eb2481178e676461e"
          ]
        },
        "id": "RC9AUStzDwYS",
        "outputId": "0e036eef-4fea-459e-b90b-c38c30c52291"
      },
      "execution_count": 22,
      "outputs": [
        {
          "output_type": "display_data",
          "data": {
            "text/plain": [
              "Map:   0%|          | 0/1024 [00:00<?, ? examples/s]"
            ],
            "application/vnd.jupyter.widget-view+json": {
              "version_major": 2,
              "version_minor": 0,
              "model_id": "ad96e869563447dc8ce3b31f93ac0996"
            }
          },
          "metadata": {}
        }
      ]
    },
    {
      "cell_type": "markdown",
      "source": [
        "## Model training\n",
        "Setup and execution of fine-tuning a sequence-to-sequence model using `Seq2SeqTrainer`. Training parameters, including batch size, learning rate, evaluation strategy, and logging, are defined in `Seq2SeqTrainingArguments`. The trainer leverages these configurations along with the provided datasets and tokenizer for fine-tuning the model."
      ],
      "metadata": {
        "id": "fU9AaF3i5_ib"
      }
    },
    {
      "cell_type": "code",
      "source": [
        "from transformers import Seq2SeqTrainingArguments, Seq2SeqTrainer\n",
        "\n",
        "output_dir=\"/content/drive/MyDrive/Dataset/finetuned-chatbot\"\n",
        "\n",
        "# Fine-tune model\n",
        "training_args = Seq2SeqTrainingArguments(\n",
        "    output_dir=output_dir,\n",
        "    evaluation_strategy=\"steps\",\n",
        "    eval_steps=100,\n",
        "    learning_rate=2e-5,\n",
        "    per_device_train_batch_size=2,\n",
        "    per_device_eval_batch_size=2,\n",
        "    num_train_epochs=5,\n",
        "    save_steps=500,\n",
        "    save_total_limit=1,\n",
        "    predict_with_generate=True,\n",
        "    logging_dir=\"./logs\",\n",
        "    logging_strategy=\"steps\",\n",
        "    logging_steps=50,\n",
        "    report_to=[\"tensorboard\"],\n",
        "    gradient_accumulation_steps=4\n",
        ")\n",
        "\n",
        "trainer = Seq2SeqTrainer(\n",
        "    model=model,\n",
        "    args=training_args,\n",
        "    train_dataset=train_dataset,\n",
        "    eval_dataset=eval_dataset,\n",
        "    tokenizer=tokenizer\n",
        ")\n",
        "\n",
        "trainer.train()\n"
      ],
      "metadata": {
        "colab": {
          "base_uri": "https://localhost:8080/",
          "height": 359
        },
        "id": "Z0hjLyQfDV49",
        "outputId": "d010b363-5196-43f9-a9d9-825d6c9fdfab"
      },
      "execution_count": 23,
      "outputs": [
        {
          "output_type": "stream",
          "name": "stderr",
          "text": [
            "/usr/local/lib/python3.11/dist-packages/transformers/training_args.py:1575: FutureWarning: `evaluation_strategy` is deprecated and will be removed in version 4.46 of 🤗 Transformers. Use `eval_strategy` instead\n",
            "  warnings.warn(\n",
            "<ipython-input-23-1e64845ddf1e>:24: FutureWarning: `tokenizer` is deprecated and will be removed in version 5.0.0 for `Seq2SeqTrainer.__init__`. Use `processing_class` instead.\n",
            "  trainer = Seq2SeqTrainer(\n"
          ]
        },
        {
          "output_type": "display_data",
          "data": {
            "text/plain": [
              "<IPython.core.display.HTML object>"
            ],
            "text/html": [
              "\n",
              "    <div>\n",
              "      \n",
              "      <progress value='510' max='510' style='width:300px; height:20px; vertical-align: middle;'></progress>\n",
              "      [510/510 07:34, Epoch 4/5]\n",
              "    </div>\n",
              "    <table border=\"1\" class=\"dataframe\">\n",
              "  <thead>\n",
              " <tr style=\"text-align: left;\">\n",
              "      <th>Step</th>\n",
              "      <th>Training Loss</th>\n",
              "      <th>Validation Loss</th>\n",
              "    </tr>\n",
              "  </thead>\n",
              "  <tbody>\n",
              "    <tr>\n",
              "      <td>100</td>\n",
              "      <td>3.854900</td>\n",
              "      <td>0.748101</td>\n",
              "    </tr>\n",
              "    <tr>\n",
              "      <td>200</td>\n",
              "      <td>3.421400</td>\n",
              "      <td>0.707335</td>\n",
              "    </tr>\n",
              "    <tr>\n",
              "      <td>300</td>\n",
              "      <td>3.122500</td>\n",
              "      <td>0.687465</td>\n",
              "    </tr>\n",
              "    <tr>\n",
              "      <td>400</td>\n",
              "      <td>3.102800</td>\n",
              "      <td>0.678170</td>\n",
              "    </tr>\n",
              "    <tr>\n",
              "      <td>500</td>\n",
              "      <td>3.061800</td>\n",
              "      <td>0.675342</td>\n",
              "    </tr>\n",
              "  </tbody>\n",
              "</table><p>"
            ]
          },
          "metadata": {}
        },
        {
          "output_type": "execute_result",
          "data": {
            "text/plain": [
              "TrainOutput(global_step=510, training_loss=3.3630000394933366, metrics={'train_runtime': 455.2232, 'train_samples_per_second': 8.996, 'train_steps_per_second': 1.12, 'total_flos': 271495590912000.0, 'train_loss': 3.3630000394933366, 'epoch': 4.95609756097561})"
            ]
          },
          "metadata": {},
          "execution_count": 23
        }
      ]
    },
    {
      "cell_type": "code",
      "source": [
        "%load_ext tensorboard\n",
        "%tensorboard --logdir ./logs"
      ],
      "metadata": {
        "id": "_-JbR9utE_vp"
      },
      "execution_count": null,
      "outputs": []
    },
    {
      "cell_type": "code",
      "source": [
        "model.save_pretrained(output_dir)\n",
        "tokenizer.save_pretrained(output_dir)"
      ],
      "metadata": {
        "colab": {
          "base_uri": "https://localhost:8080/"
        },
        "id": "2R89QGdPKqo_",
        "outputId": "5c0ac434-393a-4330-c2af-b7326996918a"
      },
      "execution_count": 10,
      "outputs": [
        {
          "output_type": "execute_result",
          "data": {
            "text/plain": [
              "('/content/drive/MyDrive/Dataset/finetuned-chatbot/tokenizer_config.json',\n",
              " '/content/drive/MyDrive/Dataset/finetuned-chatbot/special_tokens_map.json',\n",
              " '/content/drive/MyDrive/Dataset/finetuned-chatbot/spiece.model',\n",
              " '/content/drive/MyDrive/Dataset/finetuned-chatbot/added_tokens.json',\n",
              " '/content/drive/MyDrive/Dataset/finetuned-chatbot/tokenizer.json')"
            ]
          },
          "metadata": {},
          "execution_count": 10
        }
      ]
    },
    {
      "cell_type": "markdown",
      "source": [
        "## Model testing\n",
        "Let’s assume we’ve saved the model and come back to it later. We can load the saved model and its tokenizer from the storage directory to resume using it, avoiding the need to retrain it from the beginning."
      ],
      "metadata": {
        "id": "3yVvSXMWJ8i4"
      }
    },
    {
      "cell_type": "code",
      "source": [
        "model = AutoModelForSeq2SeqLM.from_pretrained(output_dir)\n",
        "model.to(device)\n",
        "tokenizer = AutoTokenizer.from_pretrained(output_dir)"
      ],
      "metadata": {
        "id": "0li5FA0YJupy"
      },
      "execution_count": 11,
      "outputs": []
    },
    {
      "cell_type": "code",
      "source": [
        "def answer_question(model, question):\n",
        "    input_text = f\"question: {question}\"\n",
        "\n",
        "    inputs = tokenizer(input_text, return_tensors=\"pt\", padding=True, truncation=True).to(device)\n",
        "    #inputs = {key: value.to(device) for key, value in inputs.items()}\n",
        "\n",
        "    outputs = model.generate(**inputs)\n",
        "    answer = tokenizer.decode(outputs[0], skip_special_tokens=True)\n",
        "\n",
        "    return answer"
      ],
      "metadata": {
        "id": "sMNixW2WKJ41"
      },
      "execution_count": 55,
      "outputs": []
    },
    {
      "cell_type": "code",
      "source": [
        "questions = [\n",
        "    \"What is the return policy for Running Shoes?\",\n",
        "    \"Where is the Yoga Mat stocked?\",\n",
        "    \"How long does delivery take for Fitness Resistance Bands?\",\n",
        "    \"What is the delivery time for products in New York?\",\n",
        "    \"Is expedited shipping available?\",\n",
        "    \"What if the item I received is not what I ordered?\",\n",
        "    \"Can I cancel my order after it has been shipped?\"\n",
        "]\n",
        "\n",
        "# Responses of untrained model\n",
        "for question in questions:\n",
        "    answer = answer_question(model_orig, question)\n",
        "    print(f\"Question: {question}\")\n",
        "    print(f\"Answer: {answer}\")\n",
        "    print(\"-\" * 50)"
      ],
      "metadata": {
        "colab": {
          "base_uri": "https://localhost:8080/"
        },
        "id": "2DxGuSu2KOyn",
        "outputId": "67a8ad42-2bde-44e5-c576-815c6170a257"
      },
      "execution_count": 35,
      "outputs": [
        {
          "output_type": "stream",
          "name": "stdout",
          "text": [
            "Question: What is the return policy for Running Shoes?\n",
            "Answer: a one-year warranty\n",
            "--------------------------------------------------\n",
            "Question: Where is the Yoga Mat stocked?\n",
            "Answer: a yoga studio\n",
            "--------------------------------------------------\n",
            "Question: How long does delivery take for Fitness Resistance Bands?\n",
            "Answer: a few minutes\n",
            "--------------------------------------------------\n",
            "Question: What is the delivery time for products in New York?\n",
            "Answer: a few hours\n",
            "--------------------------------------------------\n",
            "Question: Is expedited shipping available?\n",
            "Answer: yes\n",
            "--------------------------------------------------\n",
            "Question: What if the item I received is not what I ordered?\n",
            "Answer: I will be charged for the wrong item\n",
            "--------------------------------------------------\n",
            "Question: Can I cancel my order after it has been shipped?\n",
            "Answer: Yes\n",
            "--------------------------------------------------\n"
          ]
        }
      ]
    },
    {
      "cell_type": "code",
      "source": [
        "# Responses of fine-tuned model\n",
        "for question in questions:\n",
        "    answer = answer_question(model, question)\n",
        "    print(f\"Question: {question}\")\n",
        "    print(f\"Answer: {answer}\")\n",
        "    print(\"-\" * 50)"
      ],
      "metadata": {
        "id": "BuSxEdlsNRlt",
        "outputId": "173b6a1d-0785-42f5-967d-ba83cc5411e3",
        "colab": {
          "base_uri": "https://localhost:8080/"
        }
      },
      "execution_count": 58,
      "outputs": [
        {
          "output_type": "stream",
          "name": "stdout",
          "text": [
            "Question: What is the return policy for Running Shoes?\n",
            "Answer: Returns are not accepted for running shoes.\n",
            "--------------------------------------------------\n",
            "Question: Where is the Yoga Mat stocked?\n",
            "Answer: The Yoga Mat is stocked in a variety of sizes and colors.\n",
            "--------------------------------------------------\n",
            "Question: How long does delivery take for Fitness Resistance Bands?\n",
            "Answer: Delivery times for Fitness Resistance Bands are typically within 5-7 business days.\n",
            "--------------------------------------------------\n",
            "Question: What is the delivery time for products in New York?\n",
            "Answer: Delivery times for products in New York are typically within 5-7 business days.\n",
            "--------------------------------------------------\n",
            "Question: Is expedited shipping available?\n",
            "Answer: Yes, expedited shipping is available for orders over $50.\n",
            "--------------------------------------------------\n",
            "Question: What if the item I received is not what I ordered?\n",
            "Answer: If the item you received is not what you ordered, please contact customer support to request a replacement\n",
            "--------------------------------------------------\n",
            "Question: Can I cancel my order after it has been shipped?\n",
            "Answer: Once the order has been shipped, you can cancel the order by contacting customer support.\n",
            "--------------------------------------------------\n"
          ]
        }
      ]
    },
    {
      "cell_type": "markdown",
      "source": [
        "## Model evaluation\n",
        "This code defines a function to evaluate a model using the ROUGE metric, comparing generated answers with target answers. It iterates over the dataset, collects predictions, and computes the ROUGE scores to assess model performance."
      ],
      "metadata": {
        "id": "KfVa0aVeN9La"
      }
    },
    {
      "cell_type": "code",
      "source": [
        "from tqdm import tqdm\n",
        "from datasets import load_dataset\n",
        "import evaluate\n",
        "\n",
        "def validate_model_with_rouge(model, tokenizer, eval_dataset):\n",
        "    metric = evaluate.load('rouge')  # Corrected here to use the ROUGE metric\n",
        "    model.eval()  # Set model to evaluation mode\n",
        "\n",
        "    for example in tqdm(eval_dataset):\n",
        "        input_text = example[\"question\"]\n",
        "        target_text = example[\"answer\"]\n",
        "\n",
        "        generated_answer = answer_question(model, input_text)\n",
        "        metric.add_batch(predictions=[generated_answer], references=[target_text])\n",
        "\n",
        "    results = metric.compute()\n",
        "    print(f\"ROUGE Scores: {results}\")"
      ],
      "metadata": {
        "id": "IRvqASQZEG_X"
      },
      "execution_count": 56,
      "outputs": []
    },
    {
      "cell_type": "code",
      "source": [
        "# Load the dataset\n",
        "eval_dataset = load_dataset(\"json\", data_files=\"/content/drive/MyDrive/Dataset/evaluation.jsonl\")\n",
        "eval_dataset = eval_dataset[\"train\"]"
      ],
      "metadata": {
        "id": "HzPcfahlIWI3"
      },
      "execution_count": 53,
      "outputs": []
    },
    {
      "cell_type": "code",
      "source": [
        "validate_model_with_rouge(model, tokenizer, eval_dataset)"
      ],
      "metadata": {
        "id": "XiiPQutSJwpk",
        "outputId": "2ed9d400-3707-41b1-8569-e16625005c8a",
        "colab": {
          "base_uri": "https://localhost:8080/"
        }
      },
      "execution_count": 57,
      "outputs": [
        {
          "output_type": "stream",
          "name": "stderr",
          "text": [
            "100%|██████████| 94/94 [00:59<00:00,  1.59it/s]\n"
          ]
        },
        {
          "output_type": "stream",
          "name": "stdout",
          "text": [
            "ROUGE Scores: {'rouge1': 0.5052579527439021, 'rouge2': 0.33125239898478764, 'rougeL': 0.48385218012237585, 'rougeLsum': 0.4833628215154294}\n"
          ]
        }
      ]
    }
  ]
}